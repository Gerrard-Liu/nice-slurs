{
 "cells": [
  {
   "cell_type": "code",
   "execution_count": 1,
   "id": "85ae2121-80c7-45d0-9ae0-ad27f385f56c",
   "metadata": {},
   "outputs": [],
   "source": [
    "import json"
   ]
  },
  {
   "cell_type": "code",
   "execution_count": 2,
   "id": "e0ab5cc7-3a13-47b3-bb46-e0c36b1b8c67",
   "metadata": {},
   "outputs": [],
   "source": [
    "def merge_coco_annotations(json_files, output_file):\n",
    "    merged_data = {\n",
    "        \"images\": [],\n",
    "        \"annotations\": [],\n",
    "        \"categories\": [],\n",
    "    }\n",
    "    image_id_offset = 0\n",
    "    annotation_id_offset = 0\n",
    "\n",
    "    for file in json_files:\n",
    "        with open(file, 'r') as f:\n",
    "            data = json.load(f)\n",
    "\n",
    "        # Adjust image IDs\n",
    "        for image in data[\"images\"]:\n",
    "            image[\"id\"] += image_id_offset\n",
    "            merged_data[\"images\"].append(image)\n",
    "\n",
    "        # Adjust annotation IDs and corresponding image IDs\n",
    "        for annotation in data[\"annotations\"]:\n",
    "            annotation[\"id\"] += annotation_id_offset\n",
    "            annotation[\"image_id\"] += image_id_offset\n",
    "            merged_data[\"annotations\"].append(annotation)\n",
    "\n",
    "        # Only add categories from the first file (assuming consistent categories)\n",
    "        if not merged_data[\"categories\"]:\n",
    "            merged_data[\"categories\"] = data[\"categories\"]\n",
    "\n",
    "        # Update offsets\n",
    "        image_id_offset = max(img[\"id\"] for img in merged_data[\"images\"]) + 1\n",
    "        annotation_id_offset = max(ann[\"id\"] for ann in merged_data[\"annotations\"]) + 1\n",
    "\n",
    "    # Save merged data to output file\n",
    "    with open(output_file, 'w') as f:\n",
    "        json.dump(merged_data, f)\n",
    "\n",
    "    print(f\"Merged annotations saved to {output_file}\")"
   ]
  },
  {
   "cell_type": "code",
   "execution_count": 3,
   "id": "dd4d299f-e869-4259-a3b4-f00cbcc276a0",
   "metadata": {},
   "outputs": [
    {
     "name": "stdout",
     "output_type": "stream",
     "text": [
      "Merged annotations saved to val.json\n"
     ]
    }
   ],
   "source": [
    "# json_files = [\"SQ_H.json\", \"SQ_raw.json\", \"SQ_V.json\", \"VS_H.json\", \"VS_raw.json\", \"VS_V.json\"]\n",
    "# output_file = \"train.json\"\n",
    "json_files = [\"EX_H.json\", \"EX_raw.json\", \"EX_V.json\"]\n",
    "output_file = \"val.json\"\n",
    "merge_coco_annotations(json_files, output_file)"
   ]
  }
 ],
 "metadata": {
  "kernelspec": {
   "display_name": "Python 3 (ipykernel)",
   "language": "python",
   "name": "python3"
  },
  "language_info": {
   "codemirror_mode": {
    "name": "ipython",
    "version": 3
   },
   "file_extension": ".py",
   "mimetype": "text/x-python",
   "name": "python",
   "nbconvert_exporter": "python",
   "pygments_lexer": "ipython3",
   "version": "3.12.6"
  }
 },
 "nbformat": 4,
 "nbformat_minor": 5
}
