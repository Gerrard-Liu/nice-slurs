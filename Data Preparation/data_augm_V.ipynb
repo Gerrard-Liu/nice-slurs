{
 "cells": [
  {
   "cell_type": "code",
   "execution_count": 1,
   "id": "6bb60d8c-7d6c-4870-b817-cefe2982fcf3",
   "metadata": {},
   "outputs": [
    {
     "name": "stderr",
     "output_type": "stream",
     "text": [
      "C:\\Users\\Oreki\\AppData\\Local\\Programs\\Python\\Python312\\Lib\\site-packages\\albumentations\\__init__.py:28: UserWarning: A new version of Albumentations is available: '2.0.4' (you have '2.0.3'). Upgrade using: pip install -U albumentations. To disable automatic update checks, set the environment variable NO_ALBUMENTATIONS_UPDATE to 1.\n",
      "  check_for_updates()\n"
     ]
    }
   ],
   "source": [
    "import os\n",
    "import json\n",
    "import cv2\n",
    "import albumentations as A\n",
    "from tqdm import tqdm"
   ]
  },
  {
   "cell_type": "code",
   "execution_count": 2,
   "id": "f1ded014-42b4-4287-b603-d69d513cc670",
   "metadata": {},
   "outputs": [
    {
     "name": "stderr",
     "output_type": "stream",
     "text": [
      "Processing Images: 100%|█████████████████████████████████████████████████████████████████| 9/9 [00:03<00:00,  2.72it/s]"
     ]
    },
    {
     "name": "stdout",
     "output_type": "stream",
     "text": [
      "Augmentation complete!\n"
     ]
    },
    {
     "name": "stderr",
     "output_type": "stream",
     "text": [
      "\n"
     ]
    }
   ],
   "source": [
    "input_images_dir = \"VS_raw\"\n",
    "input_annotation_file = \"VS_raw/VS_raw.json\"\n",
    "output_images_dir = \"VS_V\"\n",
    "output_annotation_file = \"VS_V/VS_V.json\"\n",
    "os.makedirs(output_images_dir, exist_ok=True)\n",
    "\n",
    "with open(input_annotation_file, \"r\") as f:\n",
    "    coco_data = json.load(f)\n",
    "\n",
    "# Albumentations Augmentation Pipeline\n",
    "transform = A.Compose(\n",
    "    [\n",
    "        # Rotate images slightly and fit within the original frame by scaling down. \n",
    "        A.SafeRotate(limit=(-4, 4), fill=255, p=1.0), \n",
    "        \n",
    "        # Flip the image vertically around the x-axis. \n",
    "        A.VerticalFlip(p=1.0), \n",
    "    ],\n",
    "    bbox_params=A.BboxParams(format=\"coco\", label_fields=[\"category_ids\"]), \n",
    "    keypoint_params=A.KeypointParams(format='xy', remove_invisible=False)  # Handle coco segmentation\n",
    ")\n",
    "\n",
    "\n",
    "# Process each image and its annotations\n",
    "augmented_images = []\n",
    "augmented_annotations = {\"images\": [], \"annotations\": [], \"categories\": coco_data[\"categories\"]}\n",
    "annotation_id = 1\n",
    "\n",
    "\n",
    "for image_info in tqdm(coco_data[\"images\"], desc=\"Processing Images\"):\n",
    "    image_id = image_info[\"id\"]\n",
    "    file_name = image_info[\"file_name\"]\n",
    "    image_path = os.path.join(input_images_dir, file_name)\n",
    "\n",
    "    # Load the image\n",
    "    image = cv2.imread(image_path)\n",
    "    image = cv2.cvtColor(image, cv2.COLOR_BGR2RGB)\n",
    "\n",
    "    # Get annotations related to this image\n",
    "    annotations = [ann for ann in coco_data[\"annotations\"] if ann[\"image_id\"] == image_id]\n",
    "    bboxes = [ann[\"bbox\"] for ann in annotations]\n",
    "    category_ids = [ann[\"category_id\"] for ann in annotations]\n",
    "\n",
    "    # Process segmentation (convert polygons to keypoints)\n",
    "    segmentations = [ann.get(\"segmentation\", []) for ann in annotations]\n",
    "    keypoints_list = []\n",
    "    for seg in segmentations:\n",
    "        keypoints = []\n",
    "        if seg:\n",
    "            # Handle both single and multiple polygons\n",
    "            if isinstance(seg[0], list):  # Multiple polygons\n",
    "                for poly in seg:\n",
    "                    if len(poly) % 2 == 0:\n",
    "                        keypoints.extend([(poly[i], poly[i + 1]) for i in range(0, len(poly), 2)])\n",
    "                    else:\n",
    "                        print(f\"Warning: Incomplete polygon detected: {poly}\")\n",
    "            else:  # Single polygon\n",
    "                if len(seg) % 2 == 0:\n",
    "                    keypoints = [(seg[i], seg[i + 1]) for i in range(0, len(seg), 2)]\n",
    "                else:\n",
    "                    print(f\"Warning: Incomplete segmentation detected: {seg}\")\n",
    "        keypoints_list.append(keypoints)\n",
    "\n",
    "    # Apply augmentation\n",
    "    augmented = transform(\n",
    "        image=image,\n",
    "        bboxes=bboxes,\n",
    "        category_ids=category_ids,\n",
    "        keypoints=[kp for sublist in keypoints_list for kp in sublist]  # Flatten the keypoints list\n",
    "    )\n",
    "\n",
    "    augmented_image = augmented[\"image\"]\n",
    "    augmented_bboxes = augmented[\"bboxes\"]\n",
    "    augmented_category_ids = augmented[\"category_ids\"]\n",
    "    augmented_keypoints = augmented[\"keypoints\"]\n",
    "\n",
    "    # Reshape keypoints back into segmentation format\n",
    "    index = 0\n",
    "    new_segmentations = []\n",
    "    for keypoints in keypoints_list:\n",
    "        num_points = len(keypoints)\n",
    "        if num_points > 0:\n",
    "            segment = [round(coord, 3) for point in augmented[\"keypoints\"][index:index + num_points] for coord in point]\n",
    "            new_segmentations.append(segment)  # Correct format: [ [x1, y1, x2, y2, ...] ]\n",
    "            index += num_points\n",
    "        else:\n",
    "            new_segmentations.append([])\n",
    "\n",
    "    # Save the augmented image\n",
    "    new_file_name = f\"{os.path.splitext(file_name)[0]}_V.png\"  # Remember to change the suffix\n",
    "    cv2.imwrite(os.path.join(output_images_dir, new_file_name), cv2.cvtColor(augmented_image, cv2.COLOR_RGB2BGR))\n",
    "\n",
    "    # Update COCO annotations\n",
    "    new_image_id = image_id  # Don't have to make new id. Duplicate ids will be resolved in Merge Annotations. \n",
    "    augmented_images.append({\n",
    "        \"id\": new_image_id,\n",
    "        \"file_name\": new_file_name,\n",
    "        \"height\": augmented_image.shape[0],\n",
    "        \"width\": augmented_image.shape[1],\n",
    "    })\n",
    "\n",
    "    for bbox, category_id, segmentation in zip(augmented_bboxes, augmented_category_ids, new_segmentations):\n",
    "        bbox = [round(coord, 3) for coord in bbox]\n",
    "        area = round(bbox[2] * bbox[3], 3)\n",
    "        category_id = int(category_id)\n",
    "\n",
    "        augmented_annotations[\"annotations\"].append({\n",
    "            \"id\": annotation_id,\n",
    "            \"image_id\": new_image_id,\n",
    "            \"category_id\": category_id,\n",
    "            \"segmentation\": [segmentation] if segmentation else [],\n",
    "            \"area\": area,\n",
    "            \"bbox\": bbox,\n",
    "            \"iscrowd\": 0,\n",
    "        })\n",
    "        annotation_id += 1\n",
    "\n",
    "\n",
    "\n",
    "# Save the updated annotations\n",
    "augmented_annotations[\"images\"] = augmented_images\n",
    "with open(output_annotation_file, \"w\") as f:\n",
    "    json.dump(augmented_annotations, f, indent=4)\n",
    "\n",
    "print(\"Augmentation complete!\")"
   ]
  }
 ],
 "metadata": {
  "kernelspec": {
   "display_name": "Python 3 (ipykernel)",
   "language": "python",
   "name": "python3"
  },
  "language_info": {
   "codemirror_mode": {
    "name": "ipython",
    "version": 3
   },
   "file_extension": ".py",
   "mimetype": "text/x-python",
   "name": "python",
   "nbconvert_exporter": "python",
   "pygments_lexer": "ipython3",
   "version": "3.12.6"
  }
 },
 "nbformat": 4,
 "nbformat_minor": 5
}
