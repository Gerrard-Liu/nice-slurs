{
 "cells": [
  {
   "cell_type": "code",
   "execution_count": 2,
   "id": "dcacded3-3ee1-48dd-b525-cc63e4568e90",
   "metadata": {},
   "outputs": [],
   "source": [
    "import os\n",
    "import pymupdf\n",
    "\n",
    "file_name = 'HN1597_2023.pdf'\n",
    "order_number = 'HN1597'\n",
    "\n",
    "score = pymupdf.open(file_name)\n",
    "os.makedirs(order_number, exist_ok=True)\n",
    "\n",
    "for page in score:\n",
    "    pix = page.get_pixmap(dpi=600)\n",
    "    pix.save(os.path.join(order_number, f'{order_number}_%i.png' % page.number))\n"
   ]
  },
  {
   "cell_type": "code",
   "execution_count": null,
   "id": "413708dc-4394-4cdf-abb1-69acd44c16a2",
   "metadata": {},
   "outputs": [],
   "source": []
  }
 ],
 "metadata": {
  "kernelspec": {
   "display_name": "Python 3 (ipykernel)",
   "language": "python",
   "name": "python3"
  },
  "language_info": {
   "codemirror_mode": {
    "name": "ipython",
    "version": 3
   },
   "file_extension": ".py",
   "mimetype": "text/x-python",
   "name": "python",
   "nbconvert_exporter": "python",
   "pygments_lexer": "ipython3",
   "version": "3.12.6"
  }
 },
 "nbformat": 4,
 "nbformat_minor": 5
}
