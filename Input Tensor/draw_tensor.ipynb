{
 "cells": [
  {
   "cell_type": "code",
   "execution_count": 1,
   "id": "f23618c5-22ef-4098-8b2b-785fc254c55e",
   "metadata": {},
   "outputs": [],
   "source": [
    "import os\n",
    "import torch\n",
    "import numpy as np\n",
    "import cv2\n",
    "from tqdm import tqdm"
   ]
  },
  {
   "cell_type": "code",
   "execution_count": 2,
   "id": "c0cfeb84-cf46-465d-b9c4-a749aa069ee2",
   "metadata": {},
   "outputs": [
    {
     "name": "stderr",
     "output_type": "stream",
     "text": [
      "Visualizing Tensors: 100%|██████████████████████████████████████████████████████████| 540/540 [00:02<00:00, 239.64it/s]"
     ]
    },
    {
     "name": "stdout",
     "output_type": "stream",
     "text": [
      "Tensor visualization complete.\n"
     ]
    },
    {
     "name": "stderr",
     "output_type": "stream",
     "text": [
      "\n"
     ]
    }
   ],
   "source": [
    "tensor_folder = \"tensors\"\n",
    "draw_folder = \"draw_tensors\"\n",
    "os.makedirs(draw_folder, exist_ok=True)\n",
    "\n",
    "for tensor_file in tqdm(os.listdir(tensor_folder), desc=\"Visualizing Tensors\"):\n",
    "    if not tensor_file.endswith(\".pt\"):\n",
    "        continue  # Skip non-tensor files\n",
    "\n",
    "    tensor_path = os.path.join(tensor_folder, tensor_file)\n",
    "    tensor = torch.load(tensor_path)\n",
    "\n",
    "    if tensor.shape[0] != 4:  # Ensure tensor has 4 channels\n",
    "        print(f\"Skipping {tensor_file}: Unexpected shape {tensor.shape}\")\n",
    "        continue\n",
    "\n",
    "    tensor_np = tensor.numpy()\n",
    "    # tensor_np = (tensor_np > 0).astype(np.uint8)  # Ensure binary values\n",
    "    start_note = tensor_np[0]     # Magenta (Red + Blue)\n",
    "    music_symbols = tensor_np[1]  # Red\n",
    "    staff_lines = tensor_np[2]    # Green\n",
    "    end_note = tensor_np[3]       # Magenta (Red + Blue)\n",
    "\n",
    "    height, width = start_note.shape\n",
    "    color_image = np.zeros((height, width, 3), dtype=np.uint8)\n",
    "    color_image[:, :, 0] = (start_note * 255) + (end_note * 255)  # Blue (start + end)\n",
    "    color_image[:, :, 1] = staff_lines * 255  # Green (staff lines)\n",
    "    color_image[:, :, 2] = music_symbols * 255  # Red (music symbols)\n",
    "\n",
    "    output_path = os.path.join(draw_folder, f\"v_{tensor_file.replace(\".pt\", \".png\")}\")\n",
    "    cv2.imwrite(output_path, color_image)\n",
    "\n",
    "print(\"Tensor visualization complete.\")"
   ]
  }
 ],
 "metadata": {
  "kernelspec": {
   "display_name": "Python 3 (ipykernel)",
   "language": "python",
   "name": "python3"
  },
  "language_info": {
   "codemirror_mode": {
    "name": "ipython",
    "version": 3
   },
   "file_extension": ".py",
   "mimetype": "text/x-python",
   "name": "python",
   "nbconvert_exporter": "python",
   "pygments_lexer": "ipython3",
   "version": "3.12.6"
  }
 },
 "nbformat": 4,
 "nbformat_minor": 5
}
