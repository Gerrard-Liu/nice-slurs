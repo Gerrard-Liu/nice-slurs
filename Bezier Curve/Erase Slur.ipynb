{
 "cells": [
  {
   "cell_type": "code",
   "execution_count": 1,
   "id": "1b92e9b9-eb13-474e-b3b2-f92fcd82541a",
   "metadata": {},
   "outputs": [],
   "source": [
    "import os\n",
    "import cv2\n",
    "import numpy as np\n",
    "import pandas as pd\n",
    "import matplotlib.pyplot as plt\n",
    "from tqdm import tqdm"
   ]
  },
  {
   "cell_type": "code",
   "execution_count": 2,
   "id": "28a999c9-2a17-406e-a975-eb933c78da3c",
   "metadata": {},
   "outputs": [],
   "source": [
    "def bezier_curve(t, P0, P1, P2, P3, P4):\n",
    "    return (\n",
    "        (1 - t) ** 4 * P0 +\n",
    "        4 * (1 - t) ** 3 * t * P1 +\n",
    "        6 * (1 - t) ** 2 * t ** 2 * P2 +\n",
    "        4 * (1 - t) * t ** 3 * P3 +\n",
    "        t ** 4 * P4\n",
    "    )\n",
    "\n",
    "def erase_slur(image, bezier_points):\n",
    "    # Convert to binary using Otsu's thresholding\n",
    "    _, binary = cv2.threshold(image, 0, 255, cv2.THRESH_BINARY_INV + cv2.THRESH_OTSU)\n",
    "\n",
    "    row_pixel_count = np.sum(binary > 0, axis=1)  # Compute row-wise histogram\n",
    "    max_pixel_count = np.max(row_pixel_count)  # Equal to image width in most cases\n",
    "    staff_lines = set(np.where(row_pixel_count > 0.7 * max_pixel_count)[0])  # PARAMETER\n",
    "\n",
    "    for row in list(staff_lines):\n",
    "        for neighbor in range(row - 1, row + 1):  # PARAMETER\n",
    "            if 0 <= neighbor < binary.shape[0] and row_pixel_count[neighbor] > 0.2 * max_pixel_count:\n",
    "                staff_lines.add(neighbor)  # Belong to staff line if above the 20% threshold\n",
    "    staff_lines = sorted(staff_lines)\n",
    "\n",
    "    vertical_kernel = cv2.getStructuringElement(cv2.MORPH_RECT, (1, 35))  # PARAMETER\n",
    "    stems = cv2.morphologyEx(binary, cv2.MORPH_OPEN, vertical_kernel, iterations=1)\n",
    "\n",
    "    mask = np.zeros_like(image, dtype=np.uint8)\n",
    "    t_vals = np.linspace(0, 1, 200)\n",
    "    bezier_curve_points = np.array([bezier_curve(t, *bezier_points) for t in t_vals], dtype=np.int32)\n",
    "\n",
    "    thickness = 12  # radius, not the diameter\n",
    "    for pt in bezier_curve_points:\n",
    "        cv2.circle(mask, (pt[0], pt[1]), thickness, 255, -1)\n",
    "\n",
    "    # Remove slur while keeping staff and stems\n",
    "    result = image.copy()\n",
    "    for y in range(mask.shape[0]):\n",
    "        for x in range(mask.shape[1]):\n",
    "            if mask[y, x] > 0:\n",
    "                if y in staff_lines or stems[y, x] > 0:\n",
    "                    continue  # Keep staff lines and stems\n",
    "                result[y, x] = 255  # Set slur pixels to white\n",
    "\n",
    "    _, binary_result = cv2.threshold(result, 64, 255, cv2.THRESH_BINARY)\n",
    "\n",
    "    return binary_result"
   ]
  },
  {
   "cell_type": "code",
   "execution_count": 3,
   "id": "5a32c412-2fb3-49f7-8ced-a27b0548bae2",
   "metadata": {},
   "outputs": [
    {
     "name": "stderr",
     "output_type": "stream",
     "text": [
      "Erasing Slurs: 100%|█████████████████████████████████████████████████████████████████| 636/636 [00:26<00:00, 24.03it/s]\n"
     ]
    }
   ],
   "source": [
    "csv_path = \"control_points.csv\"\n",
    "df = pd.read_csv(csv_path)\n",
    "output_folder = \"Erase Slur\"\n",
    "os.makedirs(output_folder, exist_ok=True)\n",
    "valid_rows = df[df[\"Invalid Bezier Curve\"] == 0]\n",
    "\n",
    "for _, row in tqdm(valid_rows.iterrows(), total=len(valid_rows), desc=\"Erasing Slurs\"):\n",
    "    \n",
    "    image_path = os.path.join(\"Use\", row[\"Crop File Name\"])\n",
    "    if not os.path.exists(image_path):\n",
    "        print(f\"Skipping missing image: {image_path}\")\n",
    "        continue\n",
    "    image = cv2.imread(image_path, cv2.IMREAD_GRAYSCALE)\n",
    "    if image is None:\n",
    "        print(f\"Error: Could not load {image_path}\")\n",
    "        continue\n",
    "\n",
    "    bezier_points = np.array([\n",
    "        eval(row[\"P0\"]), eval(row[\"P1\"]), eval(row[\"P2\"]),\n",
    "        eval(row[\"P3\"]), eval(row[\"P4\"])\n",
    "    ])\n",
    "\n",
    "    binary_result = erase_slur(image, bezier_points)\n",
    "    output_path = os.path.join(output_folder, f\"e_{row['Crop File Name']}\")\n",
    "    cv2.imwrite(output_path, binary_result)"
   ]
  },
  {
   "cell_type": "code",
   "execution_count": null,
   "id": "4436aebf-65f9-4ea9-932a-da188c5c1c44",
   "metadata": {},
   "outputs": [],
   "source": []
  }
 ],
 "metadata": {
  "kernelspec": {
   "display_name": "Python 3 (ipykernel)",
   "language": "python",
   "name": "python3"
  },
  "language_info": {
   "codemirror_mode": {
    "name": "ipython",
    "version": 3
   },
   "file_extension": ".py",
   "mimetype": "text/x-python",
   "name": "python",
   "nbconvert_exporter": "python",
   "pygments_lexer": "ipython3",
   "version": "3.12.6"
  }
 },
 "nbformat": 4,
 "nbformat_minor": 5
}
