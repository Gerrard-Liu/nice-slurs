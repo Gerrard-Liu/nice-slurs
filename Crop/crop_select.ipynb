{
 "cells": [
  {
   "cell_type": "code",
   "execution_count": 1,
   "id": "0b239ab6-1f78-43ad-a6c9-33f4fab8f2f2",
   "metadata": {},
   "outputs": [],
   "source": [
    "import pandas as pd\n",
    "import ast\n",
    "import os\n",
    "import shutil\n",
    "\n",
    "csv_path = \"output_crops.csv\"\n",
    "data = pd.read_csv(csv_path)"
   ]
  },
  {
   "cell_type": "code",
   "execution_count": 2,
   "id": "8347cb3e-8525-4325-a5c1-42ee01ce7e7b",
   "metadata": {},
   "outputs": [],
   "source": [
    "def calculate_height(crop_position):\n",
    "    # Convert the Crop Position string to a list\n",
    "    crop_pos = ast.literal_eval(crop_position)\n",
    "    return crop_pos[3] - crop_pos[1]    # y_max - y_min\n",
    "\n",
    "data[\"Crop Height\"] = data[\"Crop Position\"].apply(calculate_height)\n",
    "data[\"Height Invalid\"] = data[\"Crop Height\"].apply(lambda h: 1 if h < 225 or h > 600 else 0)\n",
    "\n",
    "def calculate_width(crop_position):\n",
    "    # Convert the Crop Position string to a list\n",
    "    crop_pos = ast.literal_eval(crop_position)\n",
    "    return crop_pos[2] - crop_pos[0]  # x_max - x_min\n",
    "\n",
    "data[\"Crop Width\"] = data[\"Crop Position\"].apply(calculate_width)\n",
    "data[\"Width Invalid\"] = data[\"Crop Width\"].apply(lambda w: 1 if w < 210 else 0)"
   ]
  },
  {
   "cell_type": "code",
   "execution_count": 3,
   "id": "0c4026d4-a1f9-4b20-8712-576b86940f89",
   "metadata": {},
   "outputs": [],
   "source": [
    "def calculate_overlap(row, data):\n",
    "    file_name = row[\"File Name\"]\n",
    "    crop_pos_1 = ast.literal_eval(row[\"Crop Position\"])\n",
    "    overlap_threshold = 0.3\n",
    "\n",
    "    for _, other_row in data[data[\"File Name\"] == file_name].iterrows():\n",
    "        if row.name == other_row.name:\n",
    "            continue\n",
    "        crop_pos_2 = ast.literal_eval(other_row[\"Crop Position\"])\n",
    "\n",
    "        x_min_1, y_min_1, x_max_1, y_max_1 = crop_pos_1\n",
    "        x_min_2, y_min_2, x_max_2, y_max_2 = crop_pos_2\n",
    "        \n",
    "        # Intersection coordinates\n",
    "        x_min_inter = max(x_min_1, x_min_2)\n",
    "        y_min_inter = max(y_min_1, y_min_2)\n",
    "        x_max_inter = min(x_max_1, x_max_2)\n",
    "        y_max_inter = min(y_max_1, y_max_2)\n",
    "\n",
    "        # Calculate intersection area\n",
    "        if x_min_inter < x_max_inter and y_min_inter < y_max_inter:\n",
    "            intersection_area = (x_max_inter - x_min_inter) * (y_max_inter - y_min_inter)\n",
    "            area_1 = (x_max_1 - x_min_1) * (y_max_1 - y_min_1)\n",
    "            # area_2 = (x_max_2 - x_min_2) * (y_max_2 - y_min_2)\n",
    "            overlap = intersection_area / area_1    # instead of min(area_1, area_2)\n",
    "            if overlap > overlap_threshold:\n",
    "                return 1\n",
    "    return 0\n",
    "\n",
    "data[\"Overlap\"] = data.apply(lambda row: calculate_overlap(row, data), axis=1)"
   ]
  },
  {
   "cell_type": "code",
   "execution_count": 4,
   "id": "7f98d3ed-8eb6-4392-b5eb-11a71c01841d",
   "metadata": {},
   "outputs": [],
   "source": [
    "def is_above(centroid, crop_height):\n",
    "    centroid_y = centroid[1]    # y-coordinate of the centroid\n",
    "    return 1 if centroid_y < crop_height / 2 else 0\n",
    "\n",
    "data[\"Above\"] = data.apply(lambda row: is_above(ast.literal_eval(row[\"Centroid in Crop\"]), row[\"Crop Height\"]), axis=1)"
   ]
  },
  {
   "cell_type": "code",
   "execution_count": 5,
   "id": "244d17a1-11fe-4217-b0c9-9ea8229a55dd",
   "metadata": {},
   "outputs": [
    {
     "name": "stdout",
     "output_type": "stream",
     "text": [
      "Updated CSV saved to output_crops_selected.csv\n"
     ]
    }
   ],
   "source": [
    "data = data.drop(columns=[\"Crop Height\", \"Crop Width\"])\n",
    "data[\"Use\"] = ((data[\"Above\"] == 1) & (data[\"Height Invalid\"] == 0) & (data[\"Width Invalid\"] == 0) & (data[\"Overlap\"] == 0)).astype(int)\n",
    "output_path = \"output_crops_selected.csv\"\n",
    "data.to_csv(output_path, index=False)\n",
    "print(f\"Updated CSV saved to {output_path}\")"
   ]
  },
  {
   "cell_type": "code",
   "execution_count": 6,
   "id": "7aaf8975-51cc-45c7-8491-afd473ab2834",
   "metadata": {},
   "outputs": [
    {
     "name": "stdout",
     "output_type": "stream",
     "text": [
      "Moving images to Height Invalid folder.\n",
      "Moving images to Width Invalid folder.\n",
      "Moving images to Overlap folder.\n",
      "Moving images to Above folder.\n",
      "Moving images to Use folder.\n"
     ]
    }
   ],
   "source": [
    "crops_folder = \"crops\"\n",
    "output_root_folder = \"crops_selected\"\n",
    "os.makedirs(output_root_folder, exist_ok=True)\n",
    "\n",
    "conditions = {\n",
    "    \"Height Invalid\": \"Height Invalid\",\n",
    "    \"Width Invalid\": \"Width Invalid\",\n",
    "    \"Overlap\": \"Overlap\",\n",
    "    \"Above\": \"Above\",\n",
    "    \"Use\": \"Use\"\n",
    "}\n",
    "\n",
    "for column, folder_name in conditions.items():\n",
    "\n",
    "    print(f\"Moving images to {folder_name} folder.\")\n",
    "\n",
    "    condition_folder = os.path.join(output_root_folder, folder_name)\n",
    "    os.makedirs(condition_folder, exist_ok=True)\n",
    "\n",
    "    filtered_data = data[data[column] == 1]\n",
    "    \n",
    "    for _, row in filtered_data.iterrows():    # Copy the corresponding crops\n",
    "        crop_file_name = row[\"Crop File Name\"]\n",
    "        source_path = os.path.join(crops_folder, crop_file_name)\n",
    "        target_path = os.path.join(condition_folder, crop_file_name)\n",
    "\n",
    "        if os.path.exists(source_path):\n",
    "            shutil.copy(source_path, target_path)\n",
    "        else:\n",
    "            print(f\"Crop {crop_file_name} not found in {crops_folder}. Skipping...\")\n"
   ]
  },
  {
   "cell_type": "code",
   "execution_count": null,
   "id": "8eb34959-a553-4361-8514-05f1c4763bfc",
   "metadata": {},
   "outputs": [],
   "source": []
  }
 ],
 "metadata": {
  "kernelspec": {
   "display_name": "Python 3 (ipykernel)",
   "language": "python",
   "name": "python3"
  },
  "language_info": {
   "codemirror_mode": {
    "name": "ipython",
    "version": 3
   },
   "file_extension": ".py",
   "mimetype": "text/x-python",
   "name": "python",
   "nbconvert_exporter": "python",
   "pygments_lexer": "ipython3",
   "version": "3.12.6"
  }
 },
 "nbformat": 4,
 "nbformat_minor": 5
}
