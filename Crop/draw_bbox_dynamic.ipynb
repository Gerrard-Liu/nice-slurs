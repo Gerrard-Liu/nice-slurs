{
 "cells": [
  {
   "cell_type": "code",
   "execution_count": 1,
   "id": "8de42dea-e029-4f0b-a29e-06a68e2040e2",
   "metadata": {},
   "outputs": [],
   "source": [
    "import os\n",
    "import cv2\n",
    "import pandas as pd\n",
    "import numpy as np"
   ]
  },
  {
   "cell_type": "code",
   "execution_count": 2,
   "id": "63767bac-d94c-40eb-b9e8-20465217fdb6",
   "metadata": {},
   "outputs": [],
   "source": [
    "def is_blank_region(region, blank_threshold):\n",
    "    \"\"\"\n",
    "    Checks if a given image region is blank (mostly white).\n",
    "\n",
    "    Parameters:\n",
    "        region (numpy array): Image region to check.\n",
    "        blank_threshold (float): Proportion of white pixels to consider the region blank.\n",
    "\n",
    "    Returns:\n",
    "        bool: True if the region is blank, False otherwise.\n",
    "    \"\"\"\n",
    "    # Convert to grayscale if it's a color image\n",
    "    if len(region.shape) == 3:\n",
    "        region = cv2.cvtColor(region, cv2.COLOR_BGR2GRAY)\n",
    "\n",
    "    # Count white pixels (assume white is near 255)\n",
    "    white_pixels = np.sum(region >= 64)\n",
    "    total_pixels = region.size\n",
    "    return (white_pixels / total_pixels) >= blank_threshold\n"
   ]
  },
  {
   "cell_type": "code",
   "execution_count": 3,
   "id": "ae28875d-3a81-42e2-8790-cacb2a95e261",
   "metadata": {},
   "outputs": [],
   "source": [
    "def expand_bounding_box(image, bbox, left_expand, right_expand, vertical_region_height, step, blank_threshold):\n",
    "    \"\"\"\n",
    "    Expands a bounding box horizontally and vertically based on detecting blank regions.\n",
    "\n",
    "    Parameters:\n",
    "        image (numpy array): Input music score image.\n",
    "        bbox (list): Bounding box [x_min, y_min, x_max, y_max].\n",
    "        horizontal_expand (int): Pixels to expand horizontally.\n",
    "        vertical_region_height (int): Fixed height for the region used in vertical blank detection.\n",
    "        step (int): Step size for moving the vertical region.\n",
    "        blank_threshold (float): Proportion of white pixels to consider a region blank.\n",
    "\n",
    "    Returns:\n",
    "        list: Expanded bounding box [x_min, y_min, x_max, y_max].\n",
    "    \"\"\"\n",
    "    x_min, y_min, x_max, y_max = bbox\n",
    "    height, width = image.shape[:2]\n",
    "\n",
    "    # Horizontal expansion (fixed amount)\n",
    "    x_min_expanded = max(0, x_min - left_expand)\n",
    "    x_max_expanded = min(width, x_max + right_expand)\n",
    "\n",
    "    # Vertical expansion using blank detection\n",
    "    # Check upward\n",
    "    for offset in range(0, height, step):  # Move the region upwards in steps\n",
    "        new_y_min = max(0, y_min - offset - vertical_region_height)\n",
    "        region = image[new_y_min:new_y_min + vertical_region_height, x_min:x_max]\n",
    "        if is_blank_region(region, blank_threshold):\n",
    "            y_min = new_y_min\n",
    "            break\n",
    "\n",
    "    # Check downward\n",
    "    for offset in range(0, height, step):  # Move the region downwards in steps\n",
    "        new_y_max = min(height, y_max + offset + vertical_region_height)\n",
    "        region = image[new_y_max - vertical_region_height:new_y_max, x_min:x_max]\n",
    "        if is_blank_region(region, blank_threshold):\n",
    "            y_max = new_y_max\n",
    "            break\n",
    "\n",
    "    return [x_min_expanded, y_min, x_max_expanded, y_max]\n"
   ]
  },
  {
   "cell_type": "code",
   "execution_count": 4,
   "id": "e1c45d4c-e61d-4f1d-b1c1-7f5c56400faf",
   "metadata": {},
   "outputs": [],
   "source": [
    "def draw_bounding_boxes(output_csv, image_folder, output_folder, left_expand=65, right_expand=55, vertical_region_height=55,\n",
    "                                    step=5, blank_threshold=0.97, box_color=(0, 0, 255), thickness=3):\n",
    "    \"\"\"\n",
    "    Draws bounding boxes on music scores based on the CSV table, with vertical expansion using blank region detection.\n",
    "\n",
    "    Parameters:\n",
    "        output_csv (str): Path to the CSV file containing bounding boxes.\n",
    "        image_folder (str): Folder containing the corresponding raw music score images.\n",
    "        output_folder (str): Folder to save the output images with bounding boxes drawn.\n",
    "        horizontal_expand (int): Pixels to expand horizontally.\n",
    "        vertical_region_height (int): Fixed height of the region for vertical blank detection.\n",
    "        step (int): Step size for moving the vertical region.\n",
    "        blank_threshold (float): Proportion of white pixels to consider a region blank.\n",
    "        box_color (tuple): Color of the bounding boxes (default: red in BGR format).\n",
    "        thickness (int): Thickness of the bounding box lines.\n",
    "    \"\"\"\n",
    "    \n",
    "    data = pd.read_csv(output_csv)               # Load the CSV file\n",
    "    os.makedirs(output_folder, exist_ok=True)    # Ensure the output folder exists\n",
    "    grouped = data.groupby(\"File Name\")          # Group rows by file name\n",
    "\n",
    "    for file_name, group in grouped:             # Iterate through the images\n",
    "        \n",
    "        image_path = os.path.join(image_folder, file_name)\n",
    "        if not os.path.exists(image_path):\n",
    "            print(f\"Image file {file_name} not found in {image_folder}. Skipping...\")\n",
    "            continue\n",
    "\n",
    "        image = cv2.imread(image_path)\n",
    "        if image is None:\n",
    "            print(f\"Failed to read image {image_path}. Skipping...\")\n",
    "            continue\n",
    "\n",
    "        for _, row in group.iterrows():    # Iterate through the slurs on each page\n",
    "            \n",
    "            bbox = [int(float(coord)) for coord in row[\"BoundingBox\"].strip(\"[]\").split(\", \")]\n",
    "            expanded_bbox = expand_bounding_box(image, bbox, left_expand, right_expand, vertical_region_height, step, blank_threshold)\n",
    "            x_min, y_min, x_max, y_max = expanded_bbox\n",
    "            # Add expanded bounding box\n",
    "            cv2.rectangle(image, (x_min, y_min), (x_max, y_max), box_color, thickness)\n",
    "\n",
    "        # Save the image with bounding boxes\n",
    "        output_path = os.path.join(output_folder, file_name)\n",
    "        cv2.imwrite(output_path, image)\n",
    "        print(f\"Saved: {output_path}\")\n"
   ]
  },
  {
   "cell_type": "code",
   "execution_count": 5,
   "id": "7ec3d245-0e05-48dd-8ac0-585c30868aa6",
   "metadata": {},
   "outputs": [
    {
     "name": "stdout",
     "output_type": "stream",
     "text": [
      "Saved: expand_bbox\\HN7_128.png\n",
      "Saved: expand_bbox\\HN7_129.png\n",
      "Saved: expand_bbox\\HN7_130.png\n",
      "Saved: expand_bbox\\HN7_131.png\n",
      "Saved: expand_bbox\\HN7_132.png\n",
      "Saved: expand_bbox\\HN7_133.png\n",
      "Saved: expand_bbox\\HN7_134.png\n",
      "Saved: expand_bbox\\HN7_135.png\n",
      "Saved: expand_bbox\\HN7_136.png\n",
      "Saved: expand_bbox\\HN7_137.png\n",
      "Saved: expand_bbox\\HN7_138.png\n",
      "Saved: expand_bbox\\HN7_139.png\n",
      "Saved: expand_bbox\\HN7_140.png\n",
      "Saved: expand_bbox\\HN7_141.png\n",
      "Saved: expand_bbox\\HN7_142.png\n",
      "Saved: expand_bbox\\HN7_144.png\n",
      "Saved: expand_bbox\\HN7_145.png\n",
      "Saved: expand_bbox\\HN7_146.png\n",
      "Saved: expand_bbox\\HN7_147.png\n",
      "Saved: expand_bbox\\HN7_148.png\n",
      "Saved: expand_bbox\\HN7_149.png\n",
      "Saved: expand_bbox\\HN7_150.png\n",
      "Saved: expand_bbox\\HN7_151.png\n",
      "Saved: expand_bbox\\HN7_153.png\n",
      "Saved: expand_bbox\\HN7_154.png\n",
      "Saved: expand_bbox\\HN7_155.png\n",
      "Saved: expand_bbox\\HN7_156.png\n",
      "Saved: expand_bbox\\HN7_157.png\n",
      "Saved: expand_bbox\\HN7_158.png\n",
      "Saved: expand_bbox\\HN7_159.png\n",
      "Saved: expand_bbox\\HN7_160.png\n",
      "Saved: expand_bbox\\HN7_161.png\n",
      "Saved: expand_bbox\\HN7_162.png\n",
      "Saved: expand_bbox\\HN7_163.png\n",
      "Saved: expand_bbox\\HN7_164.png\n",
      "Saved: expand_bbox\\HN7_165.png\n",
      "Saved: expand_bbox\\HN7_166.png\n"
     ]
    }
   ],
   "source": [
    "output_csv = \"output_objects.csv\"\n",
    "image_folder = \"raw\"\n",
    "output_folder = \"expand_bbox\"\n",
    "draw_bounding_boxes(output_csv, image_folder, output_folder, left_expand=65, right_expand=55, vertical_region_height=55)"
   ]
  },
  {
   "cell_type": "code",
   "execution_count": 6,
   "id": "164d69d8-7848-4ff2-a2c2-1f409cee66af",
   "metadata": {},
   "outputs": [
    {
     "name": "stdout",
     "output_type": "stream",
     "text": [
      "(6000, 4500, 3)\n"
     ]
    }
   ],
   "source": [
    "image_folder = \"raw\"\n",
    "file_name = \"HN7_128.png\"\n",
    "image_path = os.path.join(image_folder, file_name)\n",
    "image = cv2.imread(image_path)\n",
    "print(image.shape)"
   ]
  },
  {
   "cell_type": "code",
   "execution_count": null,
   "id": "f05efe5a-82a0-413a-bccf-9ec7b9bcbacc",
   "metadata": {},
   "outputs": [],
   "source": []
  }
 ],
 "metadata": {
  "kernelspec": {
   "display_name": "Python 3 (ipykernel)",
   "language": "python",
   "name": "python3"
  },
  "language_info": {
   "codemirror_mode": {
    "name": "ipython",
    "version": 3
   },
   "file_extension": ".py",
   "mimetype": "text/x-python",
   "name": "python",
   "nbconvert_exporter": "python",
   "pygments_lexer": "ipython3",
   "version": "3.12.6"
  }
 },
 "nbformat": 4,
 "nbformat_minor": 5
}
